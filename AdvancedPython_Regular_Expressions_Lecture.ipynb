{
 "cells": [
  {
   "cell_type": "markdown",
   "metadata": {},
   "source": [
    "# Regular Expressions"
   ]
  },
  {
   "cell_type": "markdown",
   "metadata": {},
   "source": [
    "# Tasks today:\n",
    "1) <b>Importing</b> <br>\n",
    "2) <b>Using Regular Expressions</b> <br>\n",
    " &nbsp;&nbsp;&nbsp;&nbsp; a) re.compile() <br>\n",
    " &nbsp;&nbsp;&nbsp;&nbsp; b) re.match() <br>\n",
    " &nbsp;&nbsp;&nbsp;&nbsp; c) re.findall() <br>\n",
    " &nbsp;&nbsp;&nbsp;&nbsp; d) re.search() <br>\n",
    "3) <b>Sets</b> <br>\n",
    " &nbsp;&nbsp;&nbsp;&nbsp; a) Integer Ranges <br>\n",
    " &nbsp;&nbsp;&nbsp;&nbsp; b) Character Ranges <br>\n",
    "4) <b>Counting Occurences</b> <br>\n",
    " &nbsp;&nbsp;&nbsp;&nbsp; a) {x} <br>\n",
    " &nbsp;&nbsp;&nbsp;&nbsp; b) {, x} <br>\n",
    " &nbsp;&nbsp;&nbsp;&nbsp; c) {?} <br>\n",
    " &nbsp;&nbsp;&nbsp;&nbsp; d) {*} <br>\n",
    " &nbsp;&nbsp;&nbsp;&nbsp; e) {+} <br>\n",
    "5) <b>In-Class Exercise #1</b> <br>\n",
    "6) <b>Escaping Characters</b> <br>\n",
    "7) <b>Grouping</b> <br>\n",
    "8) <b>In-Class Exercise #2</b> <br>\n",
    "9) <b>Opening a File</b> <br>\n",
    " &nbsp;&nbsp;&nbsp;&nbsp; a) open() <br>\n",
    " &nbsp;&nbsp;&nbsp;&nbsp; b) with open() <br>\n",
    " &nbsp;&nbsp;&nbsp;&nbsp; c) re.match() <br>\n",
    " &nbsp;&nbsp;&nbsp;&nbsp; d) re.search() <br>\n",
    " &nbsp;&nbsp;&nbsp;&nbsp; e) Store the String in a Variable <br>\n",
    "10) <b>Regex Project</b> <br>"
   ]
  },
  {
   "cell_type": "markdown",
   "metadata": {},
   "source": [
    "### Importing <br>\n",
    "<p>Regular Expressions are universal throughout most programming languages... They are generally imported through the module 're'.</p>"
   ]
  },
  {
   "cell_type": "code",
   "execution_count": 1,
   "metadata": {},
   "outputs": [],
   "source": [
    "# import re\n",
    "import re\n"
   ]
  },
  {
   "cell_type": "markdown",
   "metadata": {},
   "source": [
    "### Using Regular Expressions <br>\n",
    "<p>Regular expressions give us the ability to search for patterns within text, strings, files, etc. They serve several uses, such as; security measures, searching, filtering, pattern recognition, and more...</p>"
   ]
  },
  {
   "cell_type": "markdown",
   "metadata": {},
   "source": [
    "##### re.compile()"
   ]
  },
  {
   "cell_type": "code",
   "execution_count": 16,
   "metadata": {},
   "outputs": [
    {
     "name": "stdout",
     "output_type": "stream",
     "text": [
      "re.compile('bear')\n"
     ]
    }
   ],
   "source": [
    "# using compile, predetermines the string to be used in regular expression methods\n",
    "pattern = re.compile('bear')\n",
    "print(pattern)\n",
    "\n",
    "paragraph = '''bears something something bears something bears something something bears something honey eat yes\n",
    "'''"
   ]
  },
  {
   "cell_type": "markdown",
   "metadata": {},
   "source": [
    "##### re.match()"
   ]
  },
  {
   "cell_type": "code",
   "execution_count": 17,
   "metadata": {},
   "outputs": [
    {
     "name": "stdout",
     "output_type": "stream",
     "text": [
      "<re.Match object; span=(0, 4), match='bear'>\n",
      "(0, 4)\n"
     ]
    }
   ],
   "source": [
    "match = pattern.match(paragraph)\n",
    "print(match)\n",
    "\n",
    "print(match.span())\n",
    "print(paragraph[0:4])"
   ]
  },
  {
   "cell_type": "markdown",
   "metadata": {},
   "source": [
    "##### re.findall()"
   ]
  },
  {
   "cell_type": "code",
   "execution_count": 18,
   "metadata": {},
   "outputs": [
    {
     "name": "stdout",
     "output_type": "stream",
     "text": [
      "['bear', 'bear', 'bear', 'bear']\n"
     ]
    }
   ],
   "source": [
    "found = pattern.findall(paragraph) #findall finds every instance of thing\n",
    "print(found)\n",
    "print(len(found))"
   ]
  },
  {
   "cell_type": "markdown",
   "metadata": {},
   "source": [
    "##### re.search()"
   ]
  },
  {
   "cell_type": "code",
   "execution_count": 19,
   "metadata": {},
   "outputs": [
    {
     "name": "stdout",
     "output_type": "stream",
     "text": [
      "<re.Match object; span=(0, 4), match='bear'>\n"
     ]
    }
   ],
   "source": [
    "# scans through entire string and return first instance of a match\n",
    "search_match = pattern.search(paragraph)\n",
    "print(search_match)\n",
    "my_span = search_match.span()\n",
    "paragraph[my_span[0]:my_span[1]]"
   ]
  },
  {
   "cell_type": "markdown",
   "metadata": {},
   "source": [
    "### Sets <br>\n",
    "<p>The following cells will allow you to use regular expressions to search for certain values within a range such as numbers 1 through 4.</p>"
   ]
  },
  {
   "cell_type": "markdown",
   "metadata": {},
   "source": [
    "##### [a-z] or [A-Z] - any lowercase/uppercase letters from a to z<br/>[^2] - anything that's not 2"
   ]
  },
  {
   "cell_type": "markdown",
   "metadata": {},
   "source": [
    "##### Integer Ranges"
   ]
  },
  {
   "cell_type": "code",
   "execution_count": 20,
   "metadata": {},
   "outputs": [
    {
     "name": "stdout",
     "output_type": "stream",
     "text": [
      "['392', '483']\n"
     ]
    }
   ],
   "source": [
    "pat_int = re.compile('[0-7][7-9][0-3]') # looking for numbers followed by other numbers in the order expressed\n",
    "\n",
    "found = pat_int.findall('3921078483675665')\n",
    "print(found)"
   ]
  },
  {
   "cell_type": "markdown",
   "metadata": {},
   "source": [
    "##### Character Ranges"
   ]
  },
  {
   "cell_type": "code",
   "execution_count": 24,
   "metadata": {},
   "outputs": [
    {
     "name": "stdout",
     "output_type": "stream",
     "text": [
      "['He', 'Th', 'Mr', 'An', 'DE', 'So']\n"
     ]
    }
   ],
   "source": [
    "pat_char = re.compile('[A-Z][a-zA-Z0-9]') # this is searching for uppercase letters followed by lowercase letters in the range\n",
    "found = pat_char.findall('Hello There Mr. AnDErSon')\n",
    "print(found)"
   ]
  },
  {
   "cell_type": "markdown",
   "metadata": {},
   "source": [
    "### Counting Occurences"
   ]
  },
  {
   "cell_type": "markdown",
   "metadata": {},
   "source": [
    "##### {x} - something that occurs {num_of_times}"
   ]
  },
  {
   "cell_type": "code",
   "execution_count": 27,
   "metadata": {},
   "outputs": [
    {
     "name": "stdout",
     "output_type": "stream",
     "text": [
      "['Hell', 'Ther', 'Sssa', 'Ssss']\n"
     ]
    }
   ],
   "source": [
    "pat1 = re.compile('[A-Z][a-z]{3}') # looking for an uppercase letter followed by 3 lowercase\n",
    "found = pat1.findall('Hello There Sssaid The Ssssssssssssnake')\n",
    "print(found)"
   ]
  },
  {
   "cell_type": "markdown",
   "metadata": {},
   "source": [
    "##### {x, x} - something that occurs between x and x times"
   ]
  },
  {
   "cell_type": "code",
   "execution_count": 29,
   "metadata": {},
   "outputs": [
    {
     "name": "stdout",
     "output_type": "stream",
     "text": [
      "['m', 'mmmmm', 'mm', 'm', 'm']\n"
     ]
    }
   ],
   "source": [
    "pat2 = re.compile('m{1,5}')\n",
    "found = pat2.findall('This is an example of regular expressions trying to find mmmmmmmore than one m, maybe this will work')\n",
    "print(found)"
   ]
  },
  {
   "cell_type": "markdown",
   "metadata": {},
   "source": [
    "##### ? - something that occurs 0 or 1 time"
   ]
  },
  {
   "cell_type": "code",
   "execution_count": 31,
   "metadata": {},
   "outputs": [
    {
     "name": "stdout",
     "output_type": "stream",
     "text": [
      "['Mr', 'Mrs', 'Ms']\n"
     ]
    }
   ],
   "source": [
    "pat3 = re.compile('Mr?s?') # the ? makes the character that it is following optional\n",
    "found = pat3.findall('Hello Mr. Anderson! How is Mrs. Anderson and Ms. Anderson?')\n",
    "print(found)"
   ]
  },
  {
   "cell_type": "markdown",
   "metadata": {},
   "source": [
    "##### * - something that occurs at least 0 times"
   ]
  },
  {
   "cell_type": "code",
   "execution_count": 32,
   "metadata": {},
   "outputs": [
    {
     "name": "stdout",
     "output_type": "stream",
     "text": [
      "['M', 'M', 'Ms', 'Ms', 'M', 'Msssssssssssssssssss']\n"
     ]
    }
   ],
   "source": [
    "pat4 = re.compile('Ms*') # the * means that the character it follows can occur either 0 or infinite times\n",
    "found = pat4.findall('Hello Mr. Anderson! How is Mrs. Anderson and Ms. Anderson Ms M Msssssssssssssssssss')\n",
    "print(found)"
   ]
  },
  {
   "cell_type": "markdown",
   "metadata": {},
   "source": [
    "##### + - something that occurs at least once"
   ]
  },
  {
   "cell_type": "code",
   "execution_count": null,
   "metadata": {},
   "outputs": [],
   "source": [
    "pat5 = re.compile('Ms+') # the + means that the character it follows must occur at least once\n",
    "found = pat5.findall('Hello Mr. Anderson! How is Mrs. Anderson and Ms. Anderson Ms M Msssssssssssssssssss')\n",
    "print(found)"
   ]
  },
  {
   "cell_type": "markdown",
   "metadata": {},
   "source": [
    "##### In-class exercise 1: \n",
    "\n",
    "Use a regular expression to find every number in the given string"
   ]
  },
  {
   "cell_type": "code",
   "execution_count": 43,
   "metadata": {},
   "outputs": [
    {
     "name": "stdout",
     "output_type": "stream",
     "text": [
      "['10909090', '1', '2']\n",
      "['10909090', '1', '2']\n"
     ]
    }
   ],
   "source": [
    "my_string = \"This string has 10909090 numbers, but it is only 1 string. I hope you solve this 2day.\"\n",
    "\n",
    "# Output: ['10909090','1',2]\n",
    "\n",
    "class1 = re.compile('[0-9]+')\n",
    "found = class1.findall(\"This string has 10909090 numbers, but it is only 1 string. I hope you solve this 2day.\")\n",
    "print(found)\n",
    "\n",
    "#other way to answer\n",
    "class2 = re.compile('[0-9]{1,8}')\n",
    "found = class2.findall(my_string)\n",
    "print(found)"
   ]
  },
  {
   "cell_type": "markdown",
   "metadata": {},
   "source": [
    "### Escaping Characters"
   ]
  },
  {
   "cell_type": "markdown",
   "metadata": {},
   "source": [
    "##### \\w - look for any Unicode character<br/>\\W - look for anything that isnt a Unicode character\n",
    "\n",
    "[History on Unicode](http://unicode.org/standard/WhatIsUnicode.html)\n",
    "\n",
    "[More on Unicode Characters](https://en.wikipedia.org/wiki/List_of_Unicode_characters)"
   ]
  },
  {
   "cell_type": "code",
   "execution_count": 47,
   "metadata": {},
   "outputs": [
    {
     "name": "stdout",
     "output_type": "stream",
     "text": [
      "['This', 'is', 'a', 'sentance', 'With', 'an', 'exclamation', 'mark', 'at', 'the', 'end']\n",
      "[' ', ' ', ' ', '. ', ' ', ', ', ' ', ' ', ' ', ' ', '!']\n"
     ]
    }
   ],
   "source": [
    "# an rstring would treat everything as part of a string, formatted like an fstring but with an r\n",
    "#\\n - new line\n",
    "#\\t - tab\n",
    "#\\w in Python doesn't do anything, but works in Regex pattern\n",
    "pat1 = re.compile('\\w+') # \\w will match any unicode character, \\W will look for anything not unicode\n",
    "pat2 = re.compile('\\W+')\n",
    "found_1 = pat1.findall('This is a sentance. With an, exclamation mark at the end!')\n",
    "found_2 = pat2.findall('This is a sentance. With an, exclamation mark at the end!')\n",
    "print(found_1)\n",
    "print(found_2)"
   ]
  },
  {
   "cell_type": "markdown",
   "metadata": {},
   "source": [
    "##### \\d - look for any digit 0-9<br/>\\D - look for anything that isnt a digit"
   ]
  },
  {
   "cell_type": "code",
   "execution_count": 49,
   "metadata": {},
   "outputs": [
    {
     "name": "stdout",
     "output_type": "stream",
     "text": [
      "['1st', '111th', '7th', '12th']\n",
      "['Today is the ', 'th day of the ', 'th month. Tomorrow will be the ', 'th.']\n"
     ]
    }
   ],
   "source": [
    "pat3 = re.compile('\\d+[a-z]{2}')\n",
    "pat4 = re.compile('\\D+')\n",
    "\n",
    "found3 = pat3.findall('1st Today is the 111th day of the 7th month. Tomorrow will be the 12th.')\n",
    "found4 = pat4.findall('Today is the 111th day of the 7th month. Tomorrow will be the 12th.')\n",
    "\n",
    "print(found3)\n",
    "print(found4)"
   ]
  },
  {
   "cell_type": "markdown",
   "metadata": {},
   "source": [
    "##### \\s - look for any white space<br/>\\S - look for anything that isnt whitespace"
   ]
  },
  {
   "cell_type": "code",
   "execution_count": 50,
   "metadata": {},
   "outputs": [
    {
     "name": "stdout",
     "output_type": "stream",
     "text": [
      "['\\n', ' ', ' ', ' ']\n",
      "['Hello,', 'My', 'name', 'is', 'Andrew']\n"
     ]
    }
   ],
   "source": [
    "pat5 = re.compile('\\s+')\n",
    "pat6 = re.compile('\\S+')\n",
    "\n",
    "found5 = pat5.findall('Hello,\\nMy name is Andrew')\n",
    "found6 = pat6.findall('Hello,\\nMy name is Andrew')\n",
    "\n",
    "print(found5)\n",
    "print(found6)"
   ]
  },
  {
   "cell_type": "markdown",
   "metadata": {},
   "source": [
    "##### \\b - look for boundaries or edges of a word<br/>\\B - look for anything that isnt a boundary"
   ]
  },
  {
   "cell_type": "code",
   "execution_count": 51,
   "metadata": {},
   "outputs": [
    {
     "name": "stdout",
     "output_type": "stream",
     "text": [
      "[]\n",
      "['There']\n"
     ]
    }
   ],
   "source": [
    "# boundaries are the edges of words. whitespaces are an example of boundaries. anything that is not a unicode is a boundary\n",
    "pat7 = re.compile('\\bThere\\b')\n",
    "pat8 = re.compile('\\BThere\\B') # this is looking for things without boundaries, no spaces or anything between words\n",
    "\n",
    "found7 = pat7.findall('HiThereMyNameIsAndrew')\n",
    "found8 = pat8.findall('HiThereMyNameIsAndrew')\n",
    "\n",
    "print(found7)\n",
    "print(found8)"
   ]
  },
  {
   "cell_type": "markdown",
   "metadata": {},
   "source": [
    "### Grouping"
   ]
  },
  {
   "cell_type": "code",
   "execution_count": 64,
   "metadata": {},
   "outputs": [
    {
     "name": "stdout",
     "output_type": "stream",
     "text": [
      "[('Max', 'Smith'), ('Sam', 'Darnold'), ('LeBron', 'James'), ('Michael', 'Jordan'), ('Kevin', 'Durant'), ('Patrick', 'McCormick')]\n",
      "['Max Smith', 'aaron rodgers', 'Sam Darnold', 'LeBron James', 'Michael Jordan', 'Kevin Durant', 'Patrick McCormick']\n",
      "Max\n",
      "Smith\n",
      "incorrect spelling. big sad\n",
      "Sam\n",
      "Darnold\n",
      "LeBron\n",
      "James\n",
      "Michael\n",
      "Jordan\n",
      "Kevin\n",
      "Durant\n",
      "Patrick\n",
      "McCormick\n"
     ]
    }
   ],
   "source": [
    "my_string_again = \"Max Smith, aaron rodgers, Sam Darnold, LeBron James, Michael Jordan, Kevin Durant, Patrick McCormick\"\n",
    "\n",
    "# Group of names Regular Expression Compiler\n",
    "\n",
    "name_pat = re.compile('([A-Z][a-zA-Z]+) ([A-Z][a-zA-z]+)')\n",
    "found_pat = name_pat.findall(my_string_again)\n",
    "print(found_pat)\n",
    "\n",
    "list_of_names = my_string_again.split(', ')\n",
    "print(list_of_names)\n",
    "\n",
    "for name in list_of_names:\n",
    "    match = name_pat.match(name)\n",
    "    if match:\n",
    "        # print(match.groups()) # returns tuple with all groups\n",
    "        print(match.group(1))\n",
    "        print(match.group(2))\n",
    "        print(match.group(0))\n",
    "    else:\n",
    "        print('incorrect spelling. big sad')\n"
   ]
  },
  {
   "cell_type": "markdown",
   "metadata": {},
   "source": [
    "##### In-class Exercise 2:\n",
    "\n",
    "Write a function using regular expressions to find the domain name in the given email addresses (and return None for the invalid email addresses)<br><b>HINT: Use '|' for either or</b>"
   ]
  },
  {
   "cell_type": "code",
   "execution_count": 76,
   "metadata": {},
   "outputs": [
    {
     "name": "stdout",
     "output_type": "stream",
     "text": [
      "re.compile('[a-z][a-z0-9]*@[a-z][a-z0-9]*(.org|.com)$')\n",
      "pocohontas1776@gmail.com\n",
      "yourfavoriteband@g6.org\n"
     ]
    }
   ],
   "source": [
    "my_emails = [\"shohat@codingcodingsummit.orgcom\", \"pocohontas1776@gmail.com\", \"helloworld@aol..com\",\n",
    "             \"yourfavoriteband@g6.org\", \"@codingsummit.com\"]\n",
    "\n",
    "# You can also use the $ at the end of your compile expression -- this stops the search\n",
    "\n",
    "#Expected output:\n",
    "#None\n",
    "#pocohontas1776@gmail.com\n",
    "#None\n",
    "#yourfavoriteband@g6.org\n",
    "#None\n",
    "\n",
    "pat_emails = re.compile('[a-z][a-z0-9]*@[a-z][a-z0-9]*(.org|.com)$')\n",
    "# found = pat_emails.findall(my_emails)\n",
    "print(pat_emails)\n",
    "\n",
    "for email in my_emails:\n",
    "    match = pat_emails.match(email)\n",
    "    if match:\n",
    "        print(match.group())\n",
    "    \n",
    "\n"
   ]
  },
  {
   "cell_type": "markdown",
   "metadata": {},
   "source": [
    "### Opening a File <br>\n",
    "<p>Python gives us a couple ways to import files, below are the two used most often.</p>"
   ]
  },
  {
   "cell_type": "markdown",
   "metadata": {},
   "source": [
    "##### open()"
   ]
  },
  {
   "cell_type": "code",
   "execution_count": 81,
   "metadata": {},
   "outputs": [
    {
     "name": "stdout",
     "output_type": "stream",
     "text": [
      "<_io.TextIOWrapper name='files/names.txt' mode='r' encoding='cp1252'>\n",
      "<class '_io.TextIOWrapper'>\n",
      "Hawkins, Derek\tderek@codingtemple.com\t(555) 555-5555\tTeacher, Coding Temple\t@derekhawkins\n",
      "Zhai, Mo\tmozhai@codingtemple.com\t(555) 555-5554\tTeacher, Coding Temple\n",
      "Johnson, Joe\tjoejohnson@codingtemple.com\t\tJohson, Joe\n",
      "Osterberg, Sven-Erik\tgovernor@norrbotten.co.se\t\tGovernor, Norrbotten\t@sverik\n",
      ", Tim\ttim@killerrabbit.com\t\tEnchanter, Killer Rabbit Cave\n",
      "Butz, Ryan\tryanb@codingtemple.com\t(555) 555-5543\tCEO, Coding Temple\t@ryanbutz\n",
      "Doctor, The\tdoctor+companion@tardis.co.uk\t\tTime Lord, Gallifrey\n",
      "Exampleson, Example\tme@example.com\t555-555-5552\tExample, Example Co.\t@example\n",
      "Pael, Ripal\tripalp@codingtemple.com\t(555) 555-5553\tTeacher, Coding Temple\t@ripalp\n",
      "Vader, Darth\tdarth-vader@empire.gov\t(555) 555-4444\tSith Lord, Galactic Empire\t@darthvader\n",
      "Fernandez de la Vega Sanz, Maria Teresa\tmtfvs@spain.gov\t\tFirst Deputy Prime Minister, Spanish Gov\n",
      "\n"
     ]
    }
   ],
   "source": [
    "f = open('files/names.txt') # can tell what file you want to open\n",
    "print(f)\n",
    "print(type(f))\n",
    "data = f.read()\n",
    "print(data)\n",
    "\n",
    "f.close() # always close file after using it"
   ]
  },
  {
   "cell_type": "markdown",
   "metadata": {},
   "source": [
    "##### with open()"
   ]
  },
  {
   "cell_type": "code",
   "execution_count": 82,
   "metadata": {},
   "outputs": [
    {
     "name": "stdout",
     "output_type": "stream",
     "text": [
      "Hawkins, Derek\tderek@codingtemple.com\t(555) 555-5555\tTeacher, Coding Temple\t@derekhawkins\n",
      "Zhai, Mo\tmozhai@codingtemple.com\t(555) 555-5554\tTeacher, Coding Temple\n",
      "Johnson, Joe\tjoejohnson@codingtemple.com\t\tJohson, Joe\n",
      "Osterberg, Sven-Erik\tgovernor@norrbotten.co.se\t\tGovernor, Norrbotten\t@sverik\n",
      ", Tim\ttim@killerrabbit.com\t\tEnchanter, Killer Rabbit Cave\n",
      "Butz, Ryan\tryanb@codingtemple.com\t(555) 555-5543\tCEO, Coding Temple\t@ryanbutz\n",
      "Doctor, The\tdoctor+companion@tardis.co.uk\t\tTime Lord, Gallifrey\n",
      "Exampleson, Example\tme@example.com\t555-555-5552\tExample, Example Co.\t@example\n",
      "Pael, Ripal\tripalp@codingtemple.com\t(555) 555-5553\tTeacher, Coding Temple\t@ripalp\n",
      "Vader, Darth\tdarth-vader@empire.gov\t(555) 555-4444\tSith Lord, Galactic Empire\t@darthvader\n",
      "Fernandez de la Vega Sanz, Maria Teresa\tmtfvs@spain.gov\t\tFirst Deputy Prime Minister, Spanish Gov\n",
      "\n"
     ]
    }
   ],
   "source": [
    "with open('files/names.txt') as f:\n",
    "    data = f.read()\n",
    "    print(data)\n",
    "\n",
    "# this is preferred b/c as soon as you leave the code block the file is closed AKA don't need to use f.close()"
   ]
  },
  {
   "cell_type": "markdown",
   "metadata": {},
   "source": [
    "##### re.match()"
   ]
  },
  {
   "cell_type": "code",
   "execution_count": 85,
   "metadata": {},
   "outputs": [
    {
     "name": "stdout",
     "output_type": "stream",
     "text": [
      "Hawkins, Derek\n"
     ]
    }
   ],
   "source": [
    "# pattern.match(string) ## first syntax learned (best practice - much more efficient for loops)\n",
    "\n",
    "# re.match(pattern, string) ## good for searching for one thing\n",
    "match = re.match('Hawkins, Derek', data)\n",
    "print(match.group())"
   ]
  },
  {
   "cell_type": "markdown",
   "metadata": {},
   "source": [
    "##### re.search()"
   ]
  },
  {
   "cell_type": "code",
   "execution_count": 86,
   "metadata": {},
   "outputs": [
    {
     "name": "stdout",
     "output_type": "stream",
     "text": [
      "<re.Match object; span=(15, 37), match='derek@codingtemple.com'>\n"
     ]
    }
   ],
   "source": [
    "# re.search(pattern, string)\n",
    "print(re.search('[a-z][a-z0-9]*@[a-z][a-z\\d]*(.com|.edu|.org)', data))\n",
    "\n",
    "\n",
    "# found = re.findall(pattern, string)"
   ]
  },
  {
   "cell_type": "markdown",
   "metadata": {},
   "source": [
    "##### Store the String to a Variable"
   ]
  },
  {
   "cell_type": "code",
   "execution_count": 88,
   "metadata": {},
   "outputs": [
    {
     "name": "stdout",
     "output_type": "stream",
     "text": [
      "this is what i found:  ['Ha', 'De', 'Te', 'Co', 'Te', 'Zh', 'Mo', 'Te', 'Co', 'Te', 'Jo', 'Jo', 'Jo', 'Jo', 'Os', 'Sv', 'Er', 'Go', 'No', 'Ti', 'En', 'Ki', 'Ra', 'Ca', 'Bu', 'Ry', 'Co', 'Te', 'Do', 'Th', 'Ti', 'Lo', 'Ga', 'Ex', 'Ex', 'Ex', 'Ex', 'Co', 'Pa', 'Ri', 'Te', 'Co', 'Te', 'Va', 'Da', 'Si', 'Lo', 'Ga', 'Em', 'Fe', 'Ve', 'Sa', 'Ma', 'Te', 'Fi', 'De', 'Pr', 'Mi', 'Sp', 'Go']\n"
     ]
    }
   ],
   "source": [
    "pat = input(\"What would you like to search for? \")\n",
    "found = re.findall(pat, data)\n",
    "if found:\n",
    "    print('this is what i found: ', found)\n",
    "else:\n",
    "    print('could not find what you are looking for')"
   ]
  },
  {
   "cell_type": "markdown",
   "metadata": {},
   "source": [
    "### In-Class Exercise #3 <br>\n",
    "<p>Print each persons name and twitter handle, using groups, should look like:</p>\n",
    "<p>==============<br>\n",
    "   Full Name / Twitter<br>\n",
    "   ==============</p>\n",
    "Derek Hawkins / @derekhawkins\n",
    "Erik Sven-Osterberg / @sverik\n",
    "Ryan Butz / @ryanbutz\n",
    "Example Exampleson / @example\n",
    "Ripal Pael / @ripalp\n",
    "Darth Vader / @darthvader"
   ]
  },
  {
   "cell_type": "code",
   "execution_count": 109,
   "metadata": {
    "scrolled": true
   },
   "outputs": [
    {
     "ename": "SyntaxError",
     "evalue": "invalid syntax (3633723829.py, line 25)",
     "output_type": "error",
     "traceback": [
      "\u001b[1;36m  Input \u001b[1;32mIn [109]\u001b[1;36m\u001b[0m\n\u001b[1;33m    (?P<last_name>[A-Z][a-zA-Z ]*)?, (?P<first_name>[A-Z][\\w -]*)\\s(?P<email>[\\w + -]+@\\w+[.comgovukse]+)\\s(?P<phone>[(]?\\d{3}[)]?[\\s-]\\d{3}[\\s-]?\\d{4})?\\s(?P<position>[\\w\\s]+), (?P<company>[\\w ]+)\\s?(?P<twitter>@[\\w]+)?\u001b[0m\n\u001b[1;37m     ^\u001b[0m\n\u001b[1;31mSyntaxError\u001b[0m\u001b[1;31m:\u001b[0m invalid syntax\n"
     ]
    }
   ],
   "source": [
    "# my attempt\n",
    "# with open('files/names.txt') as f: # copied and pasted this 'open' code block bit b/c idk where we're pulling the names from\n",
    "#     data = f.read()\n",
    "#     print(data)\n",
    "# pat_twitter = re.compile('([A-Z][a-z]+), ([A-Z][a-zA-Z -]+).*\\s(@[a-zA-Z0-9]+$)')\n",
    "\n",
    "# for name in data:\n",
    "#     match = pat_twitter.search(name)\n",
    "#     if match:\n",
    "#         print(f'{match.group(1)} {match.group(2)} {match.group(3)}')\n",
    "\n",
    "# in class answer:\n",
    "with open(\"files/names.txt\")as f:\n",
    "    data = f.readlines()\n",
    "    print('====================')\n",
    "    print('Full Name / Twitter')\n",
    "    print('====================')\n",
    "pat1 = re.compile(\"([A-Z][a-z]+), ([A-Z][a-zA-Z -]+).*\\s(@[a-zA-Z0-9]+$)\")\n",
    "for peep in data:\n",
    "    match = pat1.search(peep)\n",
    "    if match:\n",
    "        print('\\n', f\"{match.group(2)} {match.group(1)} / {match.group(3)}\")\n",
    "\n",
    "# shoha's answer\n",
    "(?P<last_name>[A-Z][a-zA-Z ]*)?, (?P<first_name>[A-Z][\\w -]*)\\s(?P<email>[\\w + -]+@\\w+[.comgovukse]+)\\s(?P<phone>[(]?\\d{3}[)]?[\\s-]\\d{3}[\\s-]?\\d{4})?\\s(?P<position>[\\w\\s]+), (?P<company>[\\w ]+)\\s?(?P<twitter>@[\\w]+)?"
   ]
  },
  {
   "cell_type": "markdown",
   "metadata": {},
   "source": [
    "### Regex project\n",
    "\n",
    "Use python to read the file regex_test.txt and print the last name on each line using regular expressions and groups (return None for names with no first and last name, or names that aren't properly capitalized)\n",
    "##### Hint: use with open() and readlines()"
   ]
  },
  {
   "cell_type": "code",
   "execution_count": null,
   "metadata": {},
   "outputs": [],
   "source": [
    "\"\"\"\n",
    "Expected Output\n",
    "Abraham Lincoln\n",
    "Andrew P Garfield\n",
    "Connor Milliken\n",
    "Jordan Alexander Williams\n",
    "None\n",
    "None\n",
    "\"\"\""
   ]
  },
  {
   "cell_type": "code",
   "execution_count": 129,
   "metadata": {},
   "outputs": [
    {
     "name": "stdout",
     "output_type": "stream",
     "text": [
      "['Abraham Lincoln\\n', 'Andrew P Garfield\\n', 'Connor Milliken\\n', 'Jordan Alexander Williams\\n', 'Madonna\\n', 'programming is cool\\n']\n",
      "Abraham Lincoln\n",
      "Andrew P Garfield\n",
      "Connor Milliken\n",
      "Jordan Alexander Williams\n",
      "None\n",
      "None\n"
     ]
    }
   ],
   "source": [
    "with open('files/regex_test.txt') as f:\n",
    "    data = f.readlines()\n",
    "    print(data)\n",
    "\n",
    "name_pattern = re.compile(\"([A-Z][a-zA-Z]+) ([A-Z]+.*)\") # got error before, forgot the parentheses - parentheses make groups!\n",
    "# currently missing the Andrew P Garfield and Jordan's last name from code, old code pasted and commented out below this line:\n",
    "# name_pattern = re.compile(\"([A-Z][a-zA-Z]+) ([A-Z][a-zA-Z]+)\")\n",
    "# name_pattern = re.compile(\"([A-Z][a-zA-Z]+) ([A-Z]+)\") ## shows Andrew P but omits rest of last names\n",
    "# name_pattern = re.compile(\"([A-Z][a-zA-Z]+) ([A-Z]+*)\") ## throws an error, unsure why. need to include other letters\n",
    "# Googled and researched what the \".\" does in Regex - serves as a \"wildcard\" as it matches all characters (regextutorial.org), tested in code, seems to work\n",
    "\n",
    "for name in data:\n",
    "    match = name_pattern.search(name)\n",
    "\n",
    "    if match:\n",
    "        print(f\"{match.group(1)} {match.group(2)}\")\n",
    "    else:\n",
    "        print(\"None\")"
   ]
  },
  {
   "cell_type": "code",
   "execution_count": null,
   "metadata": {},
   "outputs": [],
   "source": []
  }
 ],
 "metadata": {
  "kernelspec": {
   "display_name": "Python 3.9.13 64-bit",
   "language": "python",
   "name": "python3"
  },
  "language_info": {
   "codemirror_mode": {
    "name": "ipython",
    "version": 3
   },
   "file_extension": ".py",
   "mimetype": "text/x-python",
   "name": "python",
   "nbconvert_exporter": "python",
   "pygments_lexer": "ipython3",
   "version": "3.9.13"
  },
  "vscode": {
   "interpreter": {
    "hash": "08e595c52ca3b9470036b1110e67b559e55f367cabc363f2e28d35631ed95060"
   }
  }
 },
 "nbformat": 4,
 "nbformat_minor": 2
}
